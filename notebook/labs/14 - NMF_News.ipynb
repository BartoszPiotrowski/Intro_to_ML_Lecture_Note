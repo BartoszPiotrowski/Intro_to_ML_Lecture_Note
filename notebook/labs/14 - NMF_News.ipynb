{
 "cells": [
  {
   "cell_type": "markdown",
   "metadata": {},
   "source": [
    "# CSCI-UA 0473 - Introduction to Machine Learning\n",
    "## Wednesday, April 11, 2018"
   ]
  },
  {
   "cell_type": "code",
   "execution_count": 1,
   "metadata": {},
   "outputs": [],
   "source": [
    "import numpy as np\n",
    "import matplotlib.pyplot as plt\n",
    "from scipy import linalg\n",
    "from scipy.sparse import diags\n",
    "%matplotlib inline\n",
    "\n",
    "from sklearn import datasets\n",
    "from sklearn.feature_extraction.text import TfidfVectorizer, CountVectorizer\n",
    "\n",
    "import autograd\n",
    "import autograd.numpy as numpy\n",
    "import autograd.numpy.random as npr\n",
    "\n",
    "from autograd import grad\n",
    "\n",
    "import scipy.optimize"
   ]
  },
  {
   "cell_type": "markdown",
   "metadata": {},
   "source": [
    "## 1. Data"
   ]
  },
  {
   "cell_type": "code",
   "execution_count": 2,
   "metadata": {},
   "outputs": [],
   "source": [
    "newsgroups_train = datasets.fetch_20newsgroups(subset='train', \n",
    "                                               categories=['comp.sys.mac.hardware', 'rec.motorcycles', 'sci.med', 'soc.religion.christian'])"
   ]
  },
  {
   "cell_type": "code",
   "execution_count": 3,
   "metadata": {},
   "outputs": [
    {
     "name": "stdout",
     "output_type": "stream",
     "text": [
      "(2369, 1529)\n"
     ]
    }
   ],
   "source": [
    "tfidf_vectorizer = TfidfVectorizer(min_df=30, stop_words='english')\n",
    "X = tfidf_vectorizer.fit_transform(newsgroups_train.data).toarray()\n",
    "y = newsgroups_train.target\n",
    "print (X.shape)"
   ]
  },
  {
   "cell_type": "code",
   "execution_count": 4,
   "metadata": {},
   "outputs": [
    {
     "name": "stdout",
     "output_type": "stream",
     "text": [
      "d 1529\n",
      "N 2369\n",
      "q 10\n",
      "X (1529, 2369)\n",
      "W (1529, 10)\n",
      "Z (10, 2369)\n"
     ]
    }
   ],
   "source": [
    "X = np.transpose(X)\n",
    "\n",
    "def normalize(data):\n",
    "    mean = np.mean(data, axis=1)[:,None]\n",
    "    return data - mean\n",
    "\n",
    "(d, N) = X.shape\n",
    "q = 10\n",
    "\n",
    "print (\"d\",  d)\n",
    "print (\"N\", N)\n",
    "print (\"q\", q)\n",
    "\n",
    "print (\"X\", (d, N))\n",
    "print (\"W\", (d, q))\n",
    "print (\"Z\", (q, N))\n",
    "# X : (d, N)\n",
    "# W : (d, q)\n",
    "# Z : (q, N)"
   ]
  },
  {
   "cell_type": "code",
   "execution_count": 5,
   "metadata": {},
   "outputs": [],
   "source": [
    "choose_which = \"nmf\"\n",
    "# \"compute_c\", \"svd\", \"sgd\", \"nmf\""
   ]
  },
  {
   "cell_type": "code",
   "execution_count": 6,
   "metadata": {},
   "outputs": [],
   "source": [
    "if choose_which == \"nmf\":\n",
    "    X = X - np.min(X)\n",
    "else:\n",
    "    X = normalize(X)"
   ]
  },
  {
   "cell_type": "code",
   "execution_count": 7,
   "metadata": {},
   "outputs": [
    {
     "name": "stdout",
     "output_type": "stream",
     "text": [
      "start optimising...\n",
      "1239.7180847492377\n",
      "47.42781733616161\n",
      "47.28237650324985\n",
      "47.02012222152686\n",
      "46.74197677486236\n",
      "46.53887663963093\n",
      "46.37406804374416\n",
      "46.22563974692703\n",
      "46.08722726433978\n",
      "45.96130130073788\n",
      "45.856257307926846\n",
      "45.77673816538332\n",
      "45.720799285187\n",
      "45.68264644491485\n",
      "45.65614852078257\n",
      "45.63693157115017\n",
      "45.6224559391272\n",
      "45.61123520212665\n",
      "45.60233608278155\n",
      "45.59507846932754\n",
      "optimisation finished\n"
     ]
    }
   ],
   "source": [
    "if choose_which == \"svd\":\n",
    "    W, S, V = linalg.svd(X)\n",
    "    print (\"X\", X.shape)\n",
    "    print (\"W\", W.shape)\n",
    "    print (\"S\", S.shape) \n",
    "    print (\"V\", V.shape)\n",
    "    \n",
    "    #Sig = np.diag(S * S)\n",
    "    #print (Sig.shape)\n",
    "    #C = W * Sig * np.transpose(W)\n",
    "    \n",
    "elif choose_which == \"compute_c\":    \n",
    "    C = X @ np.transpose(X)\n",
    "    e_val, W = np.linalg.eig(C)\n",
    "    W = autograd.numpy.real( W )\n",
    "    \n",
    "    print (\"C\", C.shape)\n",
    "    print (\"e_val\", e_val.shape)\n",
    "    print (\"W\", W.shape)\n",
    "    \n",
    "elif choose_which == \"sgd\":\n",
    "    def print_diff(W):\n",
    "        W2 = W @ np.transpose(W)\n",
    "        dd = np.mean(np.identity(d) - W2)\n",
    "        norm = np.mean(W2)\n",
    "        print (\"W     (Norm | Max | Min) : ({:.8f} | {:.8f} | {:.8f})\".format(np.linalg.norm(W), np.max(W), np.min(W)))\n",
    "        print (\"WW^T (Diff | Norm) : ({:.8f}, {:.8f})\".format(dd, norm) )\n",
    "    \n",
    "    def dist(W, X, d, q):\n",
    "        W = W.reshape(d, q)\n",
    "        dd = X - W @ autograd.numpy.transpose(W) @ X\n",
    "        norm = autograd.numpy.linalg.norm( dd )\n",
    "        return norm * norm\n",
    "    \n",
    "    #maxiter = 100\n",
    "    W = autograd.numpy.real( autograd.numpy.random.rand(d,q) )\n",
    "    print ('start optimising...')\n",
    "    print_diff(W)\n",
    "    trained_model = scipy.optimize.minimize(dist, W, (X, d, q), method='CG', jac=grad(dist))\n",
    "    #trained_model = scipy.optimize.minimize(dist, W, (X, d, q), method='CG', jac=grad(dist), options={'maxiter':maxiter})\n",
    "    print ('optimisation finished')\n",
    "    W = trained_model.x.reshape(d,q)\n",
    "    print_diff(W)\n",
    "    \n",
    "elif choose_which == \"nmf\":    \n",
    "    maxiter = 10000\n",
    "    W = np.real( (np.random.rand(d,q))*0.5 )\n",
    "    Z = np.real( (np.random.rand(q,N))*0.5 )\n",
    "    print ('start optimising...')\n",
    "    # X : (d, N)\n",
    "    # W : (d, q)\n",
    "    # Z : (q, N)        \n",
    "    for u_iter in range(maxiter):\n",
    "        lr = 0.001\n",
    "        diff = X - W @ Z\n",
    "        W_ = W + lr * (diff) @ np.transpose(Z)\n",
    "        Z_ = Z + lr * np.transpose(W) @ (diff)        \n",
    "        W, Z = np.maximum(W_, 0, W_), np.maximum(Z_, 0, Z_)\n",
    "        if u_iter % 500 == 0:\n",
    "            print (autograd.numpy.linalg.norm(diff))\n",
    "        \n",
    "    print ('optimisation finished')\n"
   ]
  },
  {
   "cell_type": "code",
   "execution_count": 8,
   "metadata": {},
   "outputs": [],
   "source": [
    "# X : (d, N)\n",
    "# W : (d, q)\n",
    "# Z : (q, N)\n",
    "\n",
    "W_q = np.transpose(W[:,:q])\n",
    "# (q, d)\n",
    "\n",
    "if choose_which == \"nmf\":\n",
    "    Z = np.transpose(Z)\n",
    "    #Z = np.transpose(np.matmul(W_q, X))\n",
    "else:\n",
    "    Z = np.transpose(np.matmul(W_q, X))"
   ]
  },
  {
   "cell_type": "markdown",
   "metadata": {},
   "source": [
    "## 2. PCA - Principal Components Analysis"
   ]
  },
  {
   "cell_type": "code",
   "execution_count": 9,
   "metadata": {},
   "outputs": [
    {
     "name": "stdout",
     "output_type": "stream",
     "text": [
      "Original Shape:  (1529, 2369)\n",
      "Reduced Shape:  (2369, 10)\n"
     ]
    }
   ],
   "source": [
    "print ('Original Shape: ', X.shape)\n",
    "print ('Reduced Shape: ', Z.shape)"
   ]
  },
  {
   "cell_type": "markdown",
   "metadata": {},
   "source": [
    "## 3. Visualizing the reduced data points"
   ]
  },
  {
   "cell_type": "code",
   "execution_count": 21,
   "metadata": {
    "scrolled": false
   },
   "outputs": [
    {
     "data": {
      "text/plain": [
       "<matplotlib.colorbar.Colorbar at 0x107f61320>"
      ]
     },
     "execution_count": 21,
     "metadata": {},
     "output_type": "execute_result"
    },
    {
     "data": {
      "image/png": "[encoded data removed]",
      "text/plain": [
       "<matplotlib.figure.Figure at 0x107e366d8>"
      ]
     },
     "metadata": {},
     "output_type": "display_data"
    }
   ],
   "source": [
    "plt.figure(figsize=(8, 6))\n",
    "plt.scatter(Z[:, 0], Z[:, 3], c = y)\n",
    "plt.colorbar()"
   ]
  },
  {
   "cell_type": "markdown",
   "metadata": {},
   "source": [
    "## 4. Analysis"
   ]
  },
  {
   "cell_type": "code",
   "execution_count": 11,
   "metadata": {},
   "outputs": [
    {
     "name": "stdout",
     "output_type": "stream",
     "text": [
      "TOPIC 0\n",
      "posting ed bike hp east writes dod article sun com\n",
      "\n",
      "TOPIC 1\n",
      "surrender cadre shameful dsl edu cs gordon banks geb pitt\n",
      "\n",
      "TOPIC 2\n",
      "nntp se posting simms quadra monitor drive edu mac apple\n",
      "\n",
      "TOPIC 3\n",
      "bible love mary heaven faith lord sin christ jesus god\n",
      "\n",
      "TOPIC 4\n",
      "guest ibm services mail information jim mac jon com netcom\n",
      "\n",
      "TOPIC 5\n",
      "nntp ride canada dod bc ac uk bike bnr ca\n",
      "\n",
      "TOPIC 6\n",
      "programs athens mcovingt covington michael university georgia uga ai edu\n",
      "\n",
      "TOPIC 7\n",
      "reaction foods berkeley steve superstition dyer chinese sensitivity food msg\n",
      "\n",
      "TOPIC 8\n",
      "pain ve edu think people time just like don hell\n",
      "\n",
      "TOPIC 9\n",
      "true faith believe people bible christianity church christian truth christians\n",
      "\n"
     ]
    }
   ],
   "source": [
    "invocab = dict([(vv,kk) for kk, vv in tfidf_vectorizer.vocabulary_.items()])\n",
    "\n",
    "for i in range(q):\n",
    "    insens_idx = np.argsort(W_q[i])\n",
    "\n",
    "    print ('TOPIC ' + str(i))\n",
    "    print (' '.join([invocab[w_ix] for w_ix in insens_idx[-10:]]) + '\\n')"
   ]
  }
 ],
 "metadata": {
  "kernelspec": {
   "display_name": "Python 3",
   "language": "python",
   "name": "python3"
  },
  "language_info": {
   "codemirror_mode": {
    "name": "ipython",
    "version": 3
   },
   "file_extension": ".py",
   "mimetype": "text/x-python",
   "name": "python",
   "nbconvert_exporter": "python",
   "pygments_lexer": "ipython3",
   "version": "3.6.3"
  }
 },
 "nbformat": 4,
 "nbformat_minor": 1
}
